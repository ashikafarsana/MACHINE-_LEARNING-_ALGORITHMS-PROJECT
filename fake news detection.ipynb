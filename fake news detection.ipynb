{
 "cells": [
  {
   "cell_type": "code",
   "execution_count": 9,
   "id": "c2074a09",
   "metadata": {},
   "outputs": [],
   "source": [
    "import pandas as pd\n",
    "import seaborn as sns\n",
    "import matplotlib.pyplot as plt"
   ]
  },
  {
   "cell_type": "code",
   "execution_count": 10,
   "id": "161826c4",
   "metadata": {},
   "outputs": [
    {
     "data": {
      "text/html": [
       "<div>\n",
       "<style scoped>\n",
       "    .dataframe tbody tr th:only-of-type {\n",
       "        vertical-align: middle;\n",
       "    }\n",
       "\n",
       "    .dataframe tbody tr th {\n",
       "        vertical-align: top;\n",
       "    }\n",
       "\n",
       "    .dataframe thead th {\n",
       "        text-align: right;\n",
       "    }\n",
       "</style>\n",
       "<table border=\"1\" class=\"dataframe\">\n",
       "  <thead>\n",
       "    <tr style=\"text-align: right;\">\n",
       "      <th></th>\n",
       "      <th>text</th>\n",
       "      <th>subject</th>\n",
       "      <th>date</th>\n",
       "    </tr>\n",
       "    <tr>\n",
       "      <th>title</th>\n",
       "      <th></th>\n",
       "      <th></th>\n",
       "      <th></th>\n",
       "    </tr>\n",
       "  </thead>\n",
       "  <tbody>\n",
       "    <tr>\n",
       "      <th>Donald Trump Sends Out Embarrassing New Year’s Eve Message; This is Disturbing</th>\n",
       "      <td>Donald Trump just couldn t wish all Americans ...</td>\n",
       "      <td>News</td>\n",
       "      <td>December 31, 2017</td>\n",
       "    </tr>\n",
       "    <tr>\n",
       "      <th>Drunk Bragging Trump Staffer Started Russian Collusion Investigation</th>\n",
       "      <td>House Intelligence Committee Chairman Devin Nu...</td>\n",
       "      <td>News</td>\n",
       "      <td>December 31, 2017</td>\n",
       "    </tr>\n",
       "    <tr>\n",
       "      <th>Sheriff David Clarke Becomes An Internet Joke For Threatening To Poke People ‘In The Eye’</th>\n",
       "      <td>On Friday, it was revealed that former Milwauk...</td>\n",
       "      <td>News</td>\n",
       "      <td>December 30, 2017</td>\n",
       "    </tr>\n",
       "    <tr>\n",
       "      <th>Trump Is So Obsessed He Even Has Obama’s Name Coded Into His Website (IMAGES)</th>\n",
       "      <td>On Christmas day, Donald Trump announced that ...</td>\n",
       "      <td>News</td>\n",
       "      <td>December 29, 2017</td>\n",
       "    </tr>\n",
       "    <tr>\n",
       "      <th>Pope Francis Just Called Out Donald Trump During His Christmas Speech</th>\n",
       "      <td>Pope Francis used his annual Christmas Day mes...</td>\n",
       "      <td>News</td>\n",
       "      <td>December 25, 2017</td>\n",
       "    </tr>\n",
       "  </tbody>\n",
       "</table>\n",
       "</div>"
      ],
      "text/plain": [
       "                                                                                                 text  \\\n",
       "title                                                                                                   \n",
       " Donald Trump Sends Out Embarrassing New Year’s...  Donald Trump just couldn t wish all Americans ...   \n",
       " Drunk Bragging Trump Staffer Started Russian C...  House Intelligence Committee Chairman Devin Nu...   \n",
       " Sheriff David Clarke Becomes An Internet Joke ...  On Friday, it was revealed that former Milwauk...   \n",
       " Trump Is So Obsessed He Even Has Obama’s Name ...  On Christmas day, Donald Trump announced that ...   \n",
       " Pope Francis Just Called Out Donald Trump Duri...  Pope Francis used his annual Christmas Day mes...   \n",
       "\n",
       "                                                   subject               date  \n",
       "title                                                                          \n",
       " Donald Trump Sends Out Embarrassing New Year’s...    News  December 31, 2017  \n",
       " Drunk Bragging Trump Staffer Started Russian C...    News  December 31, 2017  \n",
       " Sheriff David Clarke Becomes An Internet Joke ...    News  December 30, 2017  \n",
       " Trump Is So Obsessed He Even Has Obama’s Name ...    News  December 29, 2017  \n",
       " Pope Francis Just Called Out Donald Trump Duri...    News  December 25, 2017  "
      ]
     },
     "execution_count": 10,
     "metadata": {},
     "output_type": "execute_result"
    }
   ],
   "source": [
    "data = pd.read_csv(\"C:/Users/hp/Downloads/Fake.csv\",index_col=0)\n",
    "data.head()"
   ]
  },
  {
   "cell_type": "code",
   "execution_count": 11,
   "id": "2975d22e",
   "metadata": {},
   "outputs": [
    {
     "data": {
      "text/plain": [
       "(23481, 3)"
      ]
     },
     "execution_count": 11,
     "metadata": {},
     "output_type": "execute_result"
    }
   ],
   "source": [
    "data.shape"
   ]
  },
  {
   "cell_type": "code",
   "execution_count": 14,
   "id": "b24ed516",
   "metadata": {},
   "outputs": [
    {
     "data": {
      "text/plain": [
       "text       0\n",
       "subject    0\n",
       "date       0\n",
       "dtype: int64"
      ]
     },
     "execution_count": 14,
     "metadata": {},
     "output_type": "execute_result"
    }
   ],
   "source": [
    "data.isnull().sum()"
   ]
  },
  {
   "cell_type": "code",
   "execution_count": 13,
   "id": "0d595e61",
   "metadata": {},
   "outputs": [
    {
     "name": "stderr",
     "output_type": "stream",
     "text": [
      "[nltk_data] Downloading package punkt to\n",
      "[nltk_data]     C:\\Users\\hp\\AppData\\Roaming\\nltk_data...\n",
      "[nltk_data]   Unzipping tokenizers\\punkt.zip.\n",
      "[nltk_data] Downloading package stopwords to\n",
      "[nltk_data]     C:\\Users\\hp\\AppData\\Roaming\\nltk_data...\n",
      "[nltk_data]   Package stopwords is already up-to-date!\n"
     ]
    }
   ],
   "source": [
    "from tqdm import tqdm\n",
    "import re\n",
    "import nltk\n",
    "nltk.download('punkt')\n",
    "nltk.download('stopwords')\n",
    "from nltk.corpus import stopwords\n",
    "from nltk.tokenize import word_tokenize\n",
    "from nltk.stem.porter import PorterStemmer\n",
    "from wordcloud import WordCloud"
   ]
  },
  {
   "cell_type": "code",
   "execution_count": 15,
   "id": "0306eebd",
   "metadata": {},
   "outputs": [],
   "source": [
    "def preprocess_text(text_data):\n",
    "    preprocessed_text = []\n",
    "      \n",
    "    for sentence in tqdm(text_data):\n",
    "        sentence = re.sub(r'[^\\w\\s]', '', sentence)\n",
    "        preprocessed_text.append(' '.join(token.lower()\n",
    "                                  for token in str(sentence).split()\n",
    "                                  if token not in stopwords.words('english')))\n",
    "  \n",
    "    return preprocessed_text"
   ]
  },
  {
   "cell_type": "code",
   "execution_count": null,
   "id": "4c8c73f8",
   "metadata": {},
   "outputs": [
    {
     "name": "stderr",
     "output_type": "stream",
     "text": [
      " 36%|███████████████████████████▏                                               | 8512/23481 [24:34<1:33:49,  2.66it/s]"
     ]
    }
   ],
   "source": [
    "preprocessed_review = preprocess_text(data['text'].values)\n",
    "data['text'] = preprocessed_review"
   ]
  },
  {
   "cell_type": "code",
   "execution_count": null,
   "id": "6ef84bf0",
   "metadata": {},
   "outputs": [],
   "source": [
    "consolidated = ' '.join(\n",
    "    word for word in data['text'][data['class'] == 1].astype(str))\n",
    "wordCloud = WordCloud(width=1600,\n",
    "                      height=800,\n",
    "                      random_state=21,\n",
    "                      max_font_size=110,\n",
    "                      collocations=False)\n",
    "plt.figure(figsize=(15, 10))\n",
    "plt.imshow(wordCloud.generate(consolidated), interpolation='bilinear')\n",
    "plt.axis('off')\n",
    "plt.show()"
   ]
  },
  {
   "cell_type": "code",
   "execution_count": null,
   "id": "b612675e",
   "metadata": {},
   "outputs": [],
   "source": [
    "consolidated = ' '.join(\n",
    "    word for word in data['text'][data['class'] == 0].astype(str))\n",
    "wordCloud = WordCloud(width=1600,\n",
    "                      height=800,\n",
    "                      random_state=21,\n",
    "                      max_font_size=110,\n",
    "                      collocations=False)\n",
    "plt.figure(figsize=(15, 10))\n",
    "plt.imshow(wordCloud.generate(consolidated), interpolation='bilinear')\n",
    "plt.axis('off')\n",
    "plt.show()"
   ]
  },
  {
   "cell_type": "code",
   "execution_count": null,
   "id": "2bb9b8cc",
   "metadata": {},
   "outputs": [],
   "source": [
    "from sklearn.feature_extraction.text import CountVectorizer\n",
    "  \n",
    "  \n",
    "def get_top_n_words(corpus, n=None):\n",
    "    vec = CountVectorizer().fit(corpus)\n",
    "    bag_of_words = vec.transform(corpus)\n",
    "    sum_words = bag_of_words.sum(axis=0)\n",
    "    words_freq = [(word, sum_words[0, idx])\n",
    "                  for word, idx in vec.vocabulary_.items()]\n",
    "    words_freq = sorted(words_freq, key=lambda x: x[1],\n",
    "                        reverse=True)\n",
    "    return words_freq[:n]\n",
    "  \n",
    "  \n",
    "common_words = get_top_n_words(data['text'], 20)\n",
    "df1 = pd.DataFrame(common_words, columns=['Review', 'count'])\n",
    "df1.groupby('Review').sum()['count'].sort_values(ascending=False).plot(\n",
    "    kind='bar',\n",
    "    figsize=(10, 6),\n",
    "    xlabel=\"Top Words\",\n",
    "    ylabel=\"Count\",\n",
    "    title=\"Bar Chart of Top Words Frequency\"\n",
    ")  "
   ]
  },
  {
   "cell_type": "code",
   "execution_count": null,
   "id": "21397bde",
   "metadata": {},
   "outputs": [],
   "source": [
    "from sklearn.model_selection import train_test_split\n",
    "from sklearn.metrics import accuracy_score\n",
    "from sklearn.linear_model import LogisticRegression\n",
    "  \n",
    "x_train, x_test, y_train, y_test = train_test_split(data['text'], \n",
    "                                                    data['class'], \n",
    "                                                    test_size=0.25)"
   ]
  },
  {
   "cell_type": "code",
   "execution_count": null,
   "id": "f1574f1d",
   "metadata": {},
   "outputs": [],
   "source": [
    "from sklearn.feature_extraction.text import TfidfVectorizer\n",
    "  \n",
    "vectorization = TfidfVectorizer()\n",
    "x_train = vectorization.fit_transform(x_train)\n",
    "x_test = vectorization.transform(x_test)"
   ]
  },
  {
   "cell_type": "code",
   "execution_count": null,
   "id": "eefd98ea",
   "metadata": {},
   "outputs": [],
   "source": [
    "from sklearn.linear_model import LogisticRegression\n",
    "  \n",
    "model = LogisticRegression()\n",
    "model.fit(x_train, y_train)\n",
    "print(accuracy_score(y_train, model.predict(x_train)))\n",
    "print(accuracy_score(y_test, model.predict(x_test)))"
   ]
  },
  {
   "cell_type": "code",
   "execution_count": null,
   "id": "ceb5d3d2",
   "metadata": {},
   "outputs": [],
   "source": [
    "from sklearn.tree import DecisionTreeClassifier\n",
    "  \n",
    "model = DecisionTreeClassifier()\n",
    "model.fit(x_train, y_train)\n",
    "print(accuracy_score(y_train, model.predict(x_train)))\n",
    "print(accuracy_score(y_test, model.predict(x_test)))"
   ]
  },
  {
   "cell_type": "code",
   "execution_count": null,
   "id": "33295e70",
   "metadata": {},
   "outputs": [],
   "source": [
    "\n",
    "from sklearn import metrics\n",
    "cm = metrics.confusion_matrix(y_test, model.predict(x_test))\n",
    "  \n",
    "cm_display = metrics.ConfusionMatrixDisplay(confusion_matrix=cm,\n",
    "                                            display_labels=[False, True])\n",
    "  \n",
    "cm_display.plot()\n",
    "plt.show()"
   ]
  }
 ],
 "metadata": {
  "kernelspec": {
   "display_name": "Python 3 (ipykernel)",
   "language": "python",
   "name": "python3"
  },
  "language_info": {
   "codemirror_mode": {
    "name": "ipython",
    "version": 3
   },
   "file_extension": ".py",
   "mimetype": "text/x-python",
   "name": "python",
   "nbconvert_exporter": "python",
   "pygments_lexer": "ipython3",
   "version": "3.9.13"
  }
 },
 "nbformat": 4,
 "nbformat_minor": 5
}
