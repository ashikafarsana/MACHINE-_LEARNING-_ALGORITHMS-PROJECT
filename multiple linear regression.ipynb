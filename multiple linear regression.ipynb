{
 "cells": [
  {
   "cell_type": "code",
   "execution_count": 11,
   "id": "aec8e29c",
   "metadata": {},
   "outputs": [],
   "source": [
    "import numpy as np\n",
    "import matplotlib.pyplot as plt\n",
    "import pandas as pd\n",
    "from sklearn.model_selection import train_test_split\n",
    "from sklearn.linear_model import LinearRegression\n",
    "from sklearn.metrics import r2_score"
   ]
  },
  {
   "cell_type": "code",
   "execution_count": 12,
   "id": "5a799ef7",
   "metadata": {},
   "outputs": [
    {
     "name": "stdout",
     "output_type": "stream",
     "text": [
      "    R&D Spend  Administration  Marketing Spend       State\n",
      "0   165349.20       136897.80        471784.10    New York\n",
      "1   162597.70       151377.59        443898.53  California\n",
      "2   153441.51       101145.55        407934.54     Florida\n",
      "3   144372.41       118671.85        383199.62    New York\n",
      "4   142107.34        91391.77        366168.42     Florida\n",
      "5   131876.90        99814.71        362861.36    New York\n",
      "6   134615.46       147198.87        127716.82  California\n",
      "7   130298.13       145530.06        323876.68     Florida\n",
      "8   120542.52       148718.95        311613.29    New York\n",
      "9   123334.88       108679.17        304981.62  California\n",
      "10  101913.08       110594.11        229160.95     Florida\n",
      "11  100671.96        91790.61        249744.55  California\n",
      "12   93863.75       127320.38        249839.44     Florida\n",
      "13   91992.39       135495.07        252664.93  California\n",
      "14  119943.24       156547.42        256512.92     Florida\n",
      "15  114523.61       122616.84        261776.23    New York\n",
      "16   78013.11       121597.55        264346.06  California\n",
      "17   94657.16       145077.58        282574.31    New York\n",
      "18   91749.16       114175.79        294919.57     Florida\n",
      "19   86419.70       153514.11             0.00    New York\n",
      "20   76253.86       113867.30        298664.47  California\n",
      "21   78389.47       153773.43        299737.29    New York\n",
      "22   73994.56       122782.75        303319.26     Florida\n",
      "23   67532.53       105751.03        304768.73     Florida\n",
      "24   77044.01        99281.34        140574.81    New York\n",
      "25   64664.71       139553.16        137962.62  California\n",
      "26   75328.87       144135.98        134050.07     Florida\n",
      "27   72107.60       127864.55        353183.81    New York\n",
      "28   66051.52       182645.56        118148.20     Florida\n",
      "29   65605.48       153032.06        107138.38    New York\n",
      "30   61994.48       115641.28         91131.24     Florida\n",
      "31   61136.38       152701.92         88218.23    New York\n",
      "32   63408.86       129219.61         46085.25  California\n",
      "33   55493.95       103057.49        214634.81     Florida\n",
      "34   46426.07       157693.92        210797.67  California\n",
      "35   46014.02        85047.44        205517.64    New York\n",
      "36   28663.76       127056.21        201126.82     Florida\n",
      "37   44069.95        51283.14        197029.42  California\n",
      "38   20229.59        65947.93        185265.10    New York\n",
      "39   38558.51        82982.09        174999.30  California\n",
      "40   28754.33       118546.05        172795.67  California\n",
      "41   27892.92        84710.77        164470.71     Florida\n",
      "42   23640.93        96189.63        148001.11  California\n",
      "43   15505.73       127382.30         35534.17    New York\n",
      "44   22177.74       154806.14         28334.72  California\n",
      "45    1000.23       124153.04          1903.93    New York\n",
      "46    1315.46       115816.21        297114.46     Florida\n",
      "47       0.00       135426.92             0.00  California\n",
      "48     542.05        51743.15             0.00    New York\n",
      "49       0.00       116983.80         45173.06  California\n"
     ]
    }
   ],
   "source": [
    "dtst=pd.read_csv(\"C:/Users/PARCHU/Downloads/50_Startups.csv\")\n",
    "X = dtst.iloc[:, :-1]\n",
    "print(X)\n",
    "y = dtst.iloc[:, 4]\n"
   ]
  },
  {
   "cell_type": "code",
   "execution_count": 13,
   "id": "7611f251",
   "metadata": {},
   "outputs": [
    {
     "name": "stdout",
     "output_type": "stream",
     "text": [
      "    Florida  New York\n",
      "0         0         1\n",
      "1         0         0\n",
      "2         1         0\n",
      "3         0         1\n",
      "4         1         0\n",
      "5         0         1\n",
      "6         0         0\n",
      "7         1         0\n",
      "8         0         1\n",
      "9         0         0\n",
      "10        1         0\n",
      "11        0         0\n",
      "12        1         0\n",
      "13        0         0\n",
      "14        1         0\n",
      "15        0         1\n",
      "16        0         0\n",
      "17        0         1\n",
      "18        1         0\n",
      "19        0         1\n",
      "20        0         0\n",
      "21        0         1\n",
      "22        1         0\n",
      "23        1         0\n",
      "24        0         1\n",
      "25        0         0\n",
      "26        1         0\n",
      "27        0         1\n",
      "28        1         0\n",
      "29        0         1\n",
      "30        1         0\n",
      "31        0         1\n",
      "32        0         0\n",
      "33        1         0\n",
      "34        0         0\n",
      "35        0         1\n",
      "36        1         0\n",
      "37        0         0\n",
      "38        0         1\n",
      "39        0         0\n",
      "40        0         0\n",
      "41        1         0\n",
      "42        0         0\n",
      "43        0         1\n",
      "44        0         0\n",
      "45        0         1\n",
      "46        1         0\n",
      "47        0         0\n",
      "48        0         1\n",
      "49        0         0\n"
     ]
    }
   ],
   "source": [
    "states=pd.get_dummies(X['State'],drop_first=True)\n",
    "print(states)"
   ]
  },
  {
   "cell_type": "code",
   "execution_count": 14,
   "id": "8c4e6c50",
   "metadata": {},
   "outputs": [],
   "source": [
    "X=X.drop('State',axis=1)"
   ]
  },
  {
   "cell_type": "code",
   "execution_count": 15,
   "id": "d0c0a454",
   "metadata": {},
   "outputs": [],
   "source": [
    "X=pd.concat([X,states],axis=1)\n"
   ]
  },
  {
   "cell_type": "code",
   "execution_count": 16,
   "id": "4a682641",
   "metadata": {},
   "outputs": [],
   "source": [
    "X_train, X_test, y_train, y_test = train_test_split(X, y, test_size = 0.2, random_state = 1)\n"
   ]
  },
  {
   "cell_type": "code",
   "execution_count": 19,
   "id": "a1b8b820",
   "metadata": {},
   "outputs": [
    {
     "name": "stdout",
     "output_type": "stream",
     "text": [
      "0.9649618042059875\n"
     ]
    }
   ],
   "source": [
    "regressor = LinearRegression()\n",
    "regressor.fit(X_train, y_train)\n",
    "y_pred = regressor.predict(X_test)\n",
    "score=r2_score(y_test,y_pred)\n",
    "print(score)\n",
    "\n"
   ]
  },
  {
   "cell_type": "code",
   "execution_count": null,
   "id": "07af6419",
   "metadata": {},
   "outputs": [],
   "source": []
  }
 ],
 "metadata": {
  "kernelspec": {
   "display_name": "Python 3 (ipykernel)",
   "language": "python",
   "name": "python3"
  },
  "language_info": {
   "codemirror_mode": {
    "name": "ipython",
    "version": 3
   },
   "file_extension": ".py",
   "mimetype": "text/x-python",
   "name": "python",
   "nbconvert_exporter": "python",
   "pygments_lexer": "ipython3",
   "version": "3.9.7"
  }
 },
 "nbformat": 4,
 "nbformat_minor": 5
}
