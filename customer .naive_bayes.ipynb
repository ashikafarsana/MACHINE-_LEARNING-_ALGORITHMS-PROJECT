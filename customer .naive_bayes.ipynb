{
 "cells": [
  {
   "cell_type": "code",
   "execution_count": 1,
   "id": "3b27ada1",
   "metadata": {},
   "outputs": [],
   "source": [
    "import pandas as pd\n",
    "import numpy as np\n",
    "from sklearn.model_selection import train_test_split\n",
    "from sklearn.naive_bayes import GaussianNB\n",
    "from sklearn.naive_bayes import MultinomialNB\n",
    "from sklearn.naive_bayes import BernoulliNB\n",
    "from sklearn.metrics import confusion_matrix"
   ]
  },
  {
   "cell_type": "code",
   "execution_count": 2,
   "id": "dc415f87",
   "metadata": {},
   "outputs": [],
   "source": [
    "dtst=pd.read_csv(\"C:/Users/PARCHU/Downloads/Multi Linear Regression.csv\")"
   ]
  },
  {
   "cell_type": "code",
   "execution_count": 3,
   "id": "1d363b55",
   "metadata": {},
   "outputs": [
    {
     "data": {
      "text/html": [
       "<div>\n",
       "<style scoped>\n",
       "    .dataframe tbody tr th:only-of-type {\n",
       "        vertical-align: middle;\n",
       "    }\n",
       "\n",
       "    .dataframe tbody tr th {\n",
       "        vertical-align: top;\n",
       "    }\n",
       "\n",
       "    .dataframe thead th {\n",
       "        text-align: right;\n",
       "    }\n",
       "</style>\n",
       "<table border=\"1\" class=\"dataframe\">\n",
       "  <thead>\n",
       "    <tr style=\"text-align: right;\">\n",
       "      <th></th>\n",
       "      <th>Customer ID</th>\n",
       "      <th>C1_gender</th>\n",
       "      <th>C1_Umur</th>\n",
       "      <th>C1_Marital</th>\n",
       "      <th>C1_Edu</th>\n",
       "      <th>C1_Occup</th>\n",
       "      <th>C1_HomeStatus</th>\n",
       "      <th>C2_Avgmtd</th>\n",
       "      <th>C2_Avgytd</th>\n",
       "      <th>C3_income</th>\n",
       "      <th>C3_Tenor</th>\n",
       "      <th>C4_Appraisal</th>\n",
       "      <th>C5_Industry</th>\n",
       "      <th>Pelurasan Kredit</th>\n",
       "    </tr>\n",
       "  </thead>\n",
       "  <tbody>\n",
       "    <tr>\n",
       "      <th>0</th>\n",
       "      <td>1234561689</td>\n",
       "      <td>2</td>\n",
       "      <td>5</td>\n",
       "      <td>2</td>\n",
       "      <td>2</td>\n",
       "      <td>5</td>\n",
       "      <td>1</td>\n",
       "      <td>3</td>\n",
       "      <td>5</td>\n",
       "      <td>4</td>\n",
       "      <td>3</td>\n",
       "      <td>2</td>\n",
       "      <td>3</td>\n",
       "      <td>1</td>\n",
       "    </tr>\n",
       "    <tr>\n",
       "      <th>1</th>\n",
       "      <td>1234561690</td>\n",
       "      <td>2</td>\n",
       "      <td>4</td>\n",
       "      <td>2</td>\n",
       "      <td>3</td>\n",
       "      <td>4</td>\n",
       "      <td>1</td>\n",
       "      <td>5</td>\n",
       "      <td>3</td>\n",
       "      <td>5</td>\n",
       "      <td>5</td>\n",
       "      <td>2</td>\n",
       "      <td>10</td>\n",
       "      <td>0</td>\n",
       "    </tr>\n",
       "    <tr>\n",
       "      <th>2</th>\n",
       "      <td>1234561914</td>\n",
       "      <td>1</td>\n",
       "      <td>1</td>\n",
       "      <td>1</td>\n",
       "      <td>4</td>\n",
       "      <td>2</td>\n",
       "      <td>2</td>\n",
       "      <td>3</td>\n",
       "      <td>1</td>\n",
       "      <td>4</td>\n",
       "      <td>4</td>\n",
       "      <td>5</td>\n",
       "      <td>4</td>\n",
       "      <td>1</td>\n",
       "    </tr>\n",
       "    <tr>\n",
       "      <th>3</th>\n",
       "      <td>1234561755</td>\n",
       "      <td>1</td>\n",
       "      <td>4</td>\n",
       "      <td>1</td>\n",
       "      <td>2</td>\n",
       "      <td>2</td>\n",
       "      <td>4</td>\n",
       "      <td>3</td>\n",
       "      <td>4</td>\n",
       "      <td>2</td>\n",
       "      <td>1</td>\n",
       "      <td>4</td>\n",
       "      <td>8</td>\n",
       "      <td>1</td>\n",
       "    </tr>\n",
       "    <tr>\n",
       "      <th>4</th>\n",
       "      <td>1234561729</td>\n",
       "      <td>2</td>\n",
       "      <td>5</td>\n",
       "      <td>1</td>\n",
       "      <td>2</td>\n",
       "      <td>4</td>\n",
       "      <td>3</td>\n",
       "      <td>4</td>\n",
       "      <td>3</td>\n",
       "      <td>5</td>\n",
       "      <td>1</td>\n",
       "      <td>1</td>\n",
       "      <td>2</td>\n",
       "      <td>0</td>\n",
       "    </tr>\n",
       "    <tr>\n",
       "      <th>...</th>\n",
       "      <td>...</td>\n",
       "      <td>...</td>\n",
       "      <td>...</td>\n",
       "      <td>...</td>\n",
       "      <td>...</td>\n",
       "      <td>...</td>\n",
       "      <td>...</td>\n",
       "      <td>...</td>\n",
       "      <td>...</td>\n",
       "      <td>...</td>\n",
       "      <td>...</td>\n",
       "      <td>...</td>\n",
       "      <td>...</td>\n",
       "      <td>...</td>\n",
       "    </tr>\n",
       "    <tr>\n",
       "      <th>994</th>\n",
       "      <td>1234561812</td>\n",
       "      <td>2</td>\n",
       "      <td>5</td>\n",
       "      <td>3</td>\n",
       "      <td>1</td>\n",
       "      <td>2</td>\n",
       "      <td>5</td>\n",
       "      <td>4</td>\n",
       "      <td>1</td>\n",
       "      <td>3</td>\n",
       "      <td>2</td>\n",
       "      <td>1</td>\n",
       "      <td>4</td>\n",
       "      <td>1</td>\n",
       "    </tr>\n",
       "    <tr>\n",
       "      <th>995</th>\n",
       "      <td>1234561914</td>\n",
       "      <td>1</td>\n",
       "      <td>5</td>\n",
       "      <td>2</td>\n",
       "      <td>3</td>\n",
       "      <td>2</td>\n",
       "      <td>4</td>\n",
       "      <td>1</td>\n",
       "      <td>2</td>\n",
       "      <td>2</td>\n",
       "      <td>5</td>\n",
       "      <td>1</td>\n",
       "      <td>3</td>\n",
       "      <td>0</td>\n",
       "    </tr>\n",
       "    <tr>\n",
       "      <th>996</th>\n",
       "      <td>1234561196</td>\n",
       "      <td>1</td>\n",
       "      <td>4</td>\n",
       "      <td>2</td>\n",
       "      <td>2</td>\n",
       "      <td>3</td>\n",
       "      <td>2</td>\n",
       "      <td>1</td>\n",
       "      <td>2</td>\n",
       "      <td>3</td>\n",
       "      <td>2</td>\n",
       "      <td>4</td>\n",
       "      <td>10</td>\n",
       "      <td>0</td>\n",
       "    </tr>\n",
       "    <tr>\n",
       "      <th>997</th>\n",
       "      <td>1234561517</td>\n",
       "      <td>1</td>\n",
       "      <td>2</td>\n",
       "      <td>1</td>\n",
       "      <td>1</td>\n",
       "      <td>1</td>\n",
       "      <td>2</td>\n",
       "      <td>4</td>\n",
       "      <td>3</td>\n",
       "      <td>2</td>\n",
       "      <td>2</td>\n",
       "      <td>5</td>\n",
       "      <td>1</td>\n",
       "      <td>1</td>\n",
       "    </tr>\n",
       "    <tr>\n",
       "      <th>998</th>\n",
       "      <td>1234561346</td>\n",
       "      <td>2</td>\n",
       "      <td>5</td>\n",
       "      <td>3</td>\n",
       "      <td>1</td>\n",
       "      <td>1</td>\n",
       "      <td>4</td>\n",
       "      <td>1</td>\n",
       "      <td>3</td>\n",
       "      <td>1</td>\n",
       "      <td>1</td>\n",
       "      <td>5</td>\n",
       "      <td>4</td>\n",
       "      <td>1</td>\n",
       "    </tr>\n",
       "  </tbody>\n",
       "</table>\n",
       "<p>999 rows × 14 columns</p>\n",
       "</div>"
      ],
      "text/plain": [
       "     Customer ID  C1_gender  C1_Umur  C1_Marital  C1_Edu  C1_Occup  \\\n",
       "0     1234561689          2        5           2       2         5   \n",
       "1     1234561690          2        4           2       3         4   \n",
       "2     1234561914          1        1           1       4         2   \n",
       "3     1234561755          1        4           1       2         2   \n",
       "4     1234561729          2        5           1       2         4   \n",
       "..           ...        ...      ...         ...     ...       ...   \n",
       "994   1234561812          2        5           3       1         2   \n",
       "995   1234561914          1        5           2       3         2   \n",
       "996   1234561196          1        4           2       2         3   \n",
       "997   1234561517          1        2           1       1         1   \n",
       "998   1234561346          2        5           3       1         1   \n",
       "\n",
       "     C1_HomeStatus  C2_Avgmtd  C2_Avgytd  C3_income  C3_Tenor  C4_Appraisal  \\\n",
       "0                1          3          5          4         3             2   \n",
       "1                1          5          3          5         5             2   \n",
       "2                2          3          1          4         4             5   \n",
       "3                4          3          4          2         1             4   \n",
       "4                3          4          3          5         1             1   \n",
       "..             ...        ...        ...        ...       ...           ...   \n",
       "994              5          4          1          3         2             1   \n",
       "995              4          1          2          2         5             1   \n",
       "996              2          1          2          3         2             4   \n",
       "997              2          4          3          2         2             5   \n",
       "998              4          1          3          1         1             5   \n",
       "\n",
       "     C5_Industry  Pelurasan Kredit  \n",
       "0              3                 1  \n",
       "1             10                 0  \n",
       "2              4                 1  \n",
       "3              8                 1  \n",
       "4              2                 0  \n",
       "..           ...               ...  \n",
       "994            4                 1  \n",
       "995            3                 0  \n",
       "996           10                 0  \n",
       "997            1                 1  \n",
       "998            4                 1  \n",
       "\n",
       "[999 rows x 14 columns]"
      ]
     },
     "execution_count": 3,
     "metadata": {},
     "output_type": "execute_result"
    }
   ],
   "source": [
    "dtst\n"
   ]
  },
  {
   "cell_type": "code",
   "execution_count": 4,
   "id": "09be46d6",
   "metadata": {},
   "outputs": [],
   "source": [
    "train,test=train_test_split(dtst,test_size=0.3)\n",
    "trainx=train.iloc[:,0:13]\n",
    "trainy=train.iloc[:,13]\n",
    "testx=test.iloc[:,0:13]\n",
    "testy=test.iloc[:,13]"
   ]
  },
  {
   "cell_type": "code",
   "execution_count": 5,
   "id": "c266e804",
   "metadata": {},
   "outputs": [],
   "source": [
    "gnb=GaussianNB()\n",
    "mnb=MultinomialNB()\n",
    "bnb=BernoulliNB()"
   ]
  },
  {
   "cell_type": "code",
   "execution_count": 6,
   "id": "0035bdfd",
   "metadata": {},
   "outputs": [],
   "source": [
    "prd_gnb=gnb.fit(trainx,trainy).predict(testx)\n",
    "prd_mnb=mnb.fit(trainx,trainy).predict(testx)\n",
    "prd_bnb=bnb.fit(trainx,trainy).predict(testx)\n",
    "cm1=confusion_matrix(prd_gnb,testy)\n",
    "cm2=confusion_matrix(prd_mnb,testy)\n",
    "cm3=confusion_matrix(prd_bnb,testy)\n",
    "ac1=np.mean(prd_gnb==testy)\n",
    "ac2=np.mean(prd_mnb==testy)\n",
    "ac3=np.mean(prd_bnb==testy)"
   ]
  },
  {
   "cell_type": "code",
   "execution_count": 7,
   "id": "79cd0f38",
   "metadata": {},
   "outputs": [
    {
     "data": {
      "text/plain": [
       "array([[78, 78],\n",
       "       [64, 80]], dtype=int64)"
      ]
     },
     "execution_count": 7,
     "metadata": {},
     "output_type": "execute_result"
    }
   ],
   "source": [
    "cm1"
   ]
  },
  {
   "cell_type": "code",
   "execution_count": 8,
   "id": "f3062711",
   "metadata": {},
   "outputs": [
    {
     "data": {
      "text/plain": [
       "0.5266666666666666"
      ]
     },
     "execution_count": 8,
     "metadata": {},
     "output_type": "execute_result"
    }
   ],
   "source": [
    "ac1"
   ]
  },
  {
   "cell_type": "code",
   "execution_count": 9,
   "id": "d24a2518",
   "metadata": {},
   "outputs": [
    {
     "data": {
      "text/plain": [
       "array([[78, 85],\n",
       "       [64, 73]], dtype=int64)"
      ]
     },
     "execution_count": 9,
     "metadata": {},
     "output_type": "execute_result"
    }
   ],
   "source": [
    "cm2"
   ]
  },
  {
   "cell_type": "code",
   "execution_count": 10,
   "id": "cb02d5cd",
   "metadata": {},
   "outputs": [
    {
     "data": {
      "text/plain": [
       "0.5033333333333333"
      ]
     },
     "execution_count": 10,
     "metadata": {},
     "output_type": "execute_result"
    }
   ],
   "source": [
    "ac2"
   ]
  },
  {
   "cell_type": "code",
   "execution_count": 11,
   "id": "41f8b8af",
   "metadata": {},
   "outputs": [
    {
     "data": {
      "text/plain": [
       "array([[142, 158],\n",
       "       [  0,   0]], dtype=int64)"
      ]
     },
     "execution_count": 11,
     "metadata": {},
     "output_type": "execute_result"
    }
   ],
   "source": [
    "cm3"
   ]
  },
  {
   "cell_type": "code",
   "execution_count": 12,
   "id": "3f015bcc",
   "metadata": {},
   "outputs": [
    {
     "data": {
      "text/plain": [
       "0.47333333333333333"
      ]
     },
     "execution_count": 12,
     "metadata": {},
     "output_type": "execute_result"
    }
   ],
   "source": [
    "ac3"
   ]
  },
  {
   "cell_type": "code",
   "execution_count": null,
   "id": "dee44cc0",
   "metadata": {},
   "outputs": [],
   "source": []
  }
 ],
 "metadata": {
  "kernelspec": {
   "display_name": "Python 3 (ipykernel)",
   "language": "python",
   "name": "python3"
  },
  "language_info": {
   "codemirror_mode": {
    "name": "ipython",
    "version": 3
   },
   "file_extension": ".py",
   "mimetype": "text/x-python",
   "name": "python",
   "nbconvert_exporter": "python",
   "pygments_lexer": "ipython3",
   "version": "3.9.7"
  }
 },
 "nbformat": 4,
 "nbformat_minor": 5
}
