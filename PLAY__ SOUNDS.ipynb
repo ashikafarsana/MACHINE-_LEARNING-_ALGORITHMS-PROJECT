{
 "cells": [
  {
   "cell_type": "code",
   "execution_count": 13,
   "id": "00ec11b2",
   "metadata": {},
   "outputs": [],
   "source": [
    "from playsound import playsound\n",
    "playsound('C:/Users/hp/Downloads/Twinkle-twinkle-Little-Star.mp3')"
   ]
  },
  {
   "cell_type": "code",
   "execution_count": 14,
   "id": "756ade55",
   "metadata": {},
   "outputs": [],
   "source": [
    "import winsound\n",
    "winsound.Beep(1000,1000)"
   ]
  },
  {
   "cell_type": "code",
   "execution_count": 15,
   "id": "162fa471",
   "metadata": {},
   "outputs": [],
   "source": [
    "import winsound\n",
    "filename='C:/Users/hp/Downloads/sea-with-waves-and-signal-18054.mp3'\n",
    "winsound.PlaySound(filename,winsound.SND_FILENAME)"
   ]
  },
  {
   "cell_type": "code",
   "execution_count": 17,
   "id": "7241569a",
   "metadata": {},
   "outputs": [],
   "source": [
    "import sounddevice as sd\n",
    "import soundfile as sf\n",
    "filename='C:/Users/hp/Downloads/mixkit-classic-alarm-995.wav'\n",
    "data, fs = sf.read(filename, dtype='float32')  \n",
    "sd.play(data, fs)\n",
    "status = sd.wait()  "
   ]
  },
  {
   "cell_type": "code",
   "execution_count": 19,
   "id": "db7f2530",
   "metadata": {},
   "outputs": [],
   "source": [
    "from pydub import AudioSegment\n",
    "from pydub.playback import play\n",
    "sound= AudioSegment.from_file('C:/Users/hp/Downloads/mixkit-classic-alarm-995.wav','wav')\n",
    "play(sound)"
   ]
  },
  {
   "cell_type": "code",
   "execution_count": null,
   "id": "d6da18a5",
   "metadata": {},
   "outputs": [],
   "source": [
    "from playsound import playsound\n",
    "playsound('C:/Users/hp/Downloads/song-of-little-ducks-113996.mp3')"
   ]
  }
 ],
 "metadata": {
  "kernelspec": {
   "display_name": "Python 3 (ipykernel)",
   "language": "python",
   "name": "python3"
  },
  "language_info": {
   "codemirror_mode": {
    "name": "ipython",
    "version": 3
   },
   "file_extension": ".py",
   "mimetype": "text/x-python",
   "name": "python",
   "nbconvert_exporter": "python",
   "pygments_lexer": "ipython3",
   "version": "3.9.13"
  }
 },
 "nbformat": 4,
 "nbformat_minor": 5
}
